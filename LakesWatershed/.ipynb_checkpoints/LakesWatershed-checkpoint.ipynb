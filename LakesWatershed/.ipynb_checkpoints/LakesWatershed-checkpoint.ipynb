{
 "cells": [
  {
   "cell_type": "markdown",
   "metadata": {},
   "source": [
    "# Exploratory Lake Watershed Statistics\n",
    "**Last Updated 1-19-2021**\n",
    "\n",
    "## Data\n",
    "---\n",
    "\n",
    "Lakes sampled by ABM at least once between 2012 - 2019\n",
    "\n",
    "Watershed characteristics to date calculated as part of the HSI"
   ]
  },
  {
   "cell_type": "code",
   "execution_count": 1,
   "metadata": {},
   "outputs": [],
   "source": [
    "# import modules\n",
    "\n",
    "import pandas as pd\n",
    "import matplotlib.pyplot as plt\n",
    "import os"
   ]
  },
  {
   "cell_type": "code",
   "execution_count": 24,
   "metadata": {},
   "outputs": [
    {
     "name": "stdout",
     "output_type": "stream",
     "text": [
      "82\n",
      "<class 'pandas.core.frame.DataFrame'>\n",
      "Int64Index: 71 entries, 0 to 81\n",
      "Data columns (total 29 columns):\n",
      " #   Column      Non-Null Count  Dtype  \n",
      "---  ------      --------------  -----  \n",
      " 0   GNIS_ID     71 non-null     int64  \n",
      " 1   GNIS_Name   71 non-null     object \n",
      " 2   AreaSqKm    71 non-null     float64\n",
      " 3   Elevation   71 non-null     int64  \n",
      " 4   HydroID     71 non-null     int64  \n",
      " 5   DrainID     71 non-null     int64  \n",
      " 6   Strahler    71 non-null     int64  \n",
      " 7   StrMi       71 non-null     float64\n",
      " 8   SqMi        71 non-null     float64\n",
      " 9   Dam         71 non-null     int64  \n",
      " 10  Div         71 non-null     float64\n",
      " 11  ICCnt       71 non-null     int64  \n",
      " 12  ICSum       71 non-null     int64  \n",
      " 13  POTW        71 non-null     float64\n",
      " 14  IC_Avg      71 non-null     float64\n",
      " 15  SD_Pct      71 non-null     float64\n",
      " 16  Q99         71 non-null     float64\n",
      " 17  DIV_CFS     71 non-null     float64\n",
      " 18  POTW_CFS    71 non-null     float64\n",
      " 19  DivQ99      71 non-null     float64\n",
      " 20  POTWQ99     71 non-null     float64\n",
      " 21  DamStrMi    71 non-null     float64\n",
      " 22  ICMetric    71 non-null     int64  \n",
      " 23  DIVMetric   71 non-null     int64  \n",
      " 24  DAMMetric   71 non-null     int64  \n",
      " 25  STPMetric   71 non-null     int64  \n",
      " 26  SumMetric   71 non-null     int64  \n",
      " 27  HSI         71 non-null     int64  \n",
      " 28  bcg2_basin  16 non-null     float64\n",
      "dtypes: float64(14), int64(14), object(1)\n",
      "memory usage: 16.6+ KB\n"
     ]
    }
   ],
   "source": [
    "# import data\n",
    "\n",
    "lakes = pd.read_csv('data/Lakes_2012-2019_HSI_GNISID.csv')\n",
    "print(len(lakes))\n",
    "lake_sites = lakes.loc[:,['STA_SEQ', 'YLat', 'XLong']]\n",
    "lakesW = lakes.drop(columns=['STA_SEQ', 'YLat', 'XLong'])\n",
    "lakesW = lakesW.drop_duplicates()\n",
    "\n",
    "#lakesW.columns\n",
    "lakesW.info()"
   ]
  },
  {
   "cell_type": "markdown",
   "metadata": {},
   "source": [
    "## Explore Lake drainage basin characteristics\n",
    "---"
   ]
  },
  {
   "cell_type": "code",
   "execution_count": 40,
   "metadata": {},
   "outputs": [
    {
     "name": "stdout",
     "output_type": "stream",
     "text": [
      "<class 'pandas.core.frame.DataFrame'>\n",
      "Int64Index: 71 entries, 0 to 81\n",
      "Data columns (total 29 columns):\n",
      " #   Column      Non-Null Count  Dtype  \n",
      "---  ------      --------------  -----  \n",
      " 0   GNIS_ID     71 non-null     int64  \n",
      " 1   GNIS_Name   71 non-null     object \n",
      " 2   AreaSqKm    71 non-null     float64\n",
      " 3   Elevation   71 non-null     int64  \n",
      " 4   HydroID     71 non-null     int64  \n",
      " 5   DrainID     71 non-null     int64  \n",
      " 6   Strahler    71 non-null     int64  \n",
      " 7   StrMi       71 non-null     float64\n",
      " 8   SqMi        71 non-null     float64\n",
      " 9   Dam         71 non-null     int64  \n",
      " 10  Div         71 non-null     float64\n",
      " 11  ICCnt       71 non-null     int64  \n",
      " 12  ICSum       71 non-null     int64  \n",
      " 13  POTW        71 non-null     float64\n",
      " 14  IC_Avg      71 non-null     float64\n",
      " 15  SD_Pct      71 non-null     float64\n",
      " 16  Q99         71 non-null     float64\n",
      " 17  DIV_CFS     71 non-null     float64\n",
      " 18  POTW_CFS    71 non-null     float64\n",
      " 19  DivQ99      71 non-null     float64\n",
      " 20  POTWQ99     71 non-null     float64\n",
      " 21  DamStrMi    71 non-null     float64\n",
      " 22  ICMetric    71 non-null     int64  \n",
      " 23  DIVMetric   71 non-null     int64  \n",
      " 24  DAMMetric   71 non-null     int64  \n",
      " 25  STPMetric   71 non-null     int64  \n",
      " 26  SumMetric   71 non-null     int64  \n",
      " 27  HSI         71 non-null     int64  \n",
      " 28  bcg2_basin  16 non-null     float64\n",
      "dtypes: float64(14), int64(14), object(1)\n",
      "memory usage: 19.1+ KB\n"
     ]
    }
   ],
   "source": [
    "lakesW.info()"
   ]
  },
  {
   "cell_type": "code",
   "execution_count": 39,
   "metadata": {},
   "outputs": [
    {
     "data": {
      "text/html": [
       "<div>\n",
       "<style scoped>\n",
       "    .dataframe tbody tr th:only-of-type {\n",
       "        vertical-align: middle;\n",
       "    }\n",
       "\n",
       "    .dataframe tbody tr th {\n",
       "        vertical-align: top;\n",
       "    }\n",
       "\n",
       "    .dataframe thead th {\n",
       "        text-align: right;\n",
       "    }\n",
       "</style>\n",
       "<table border=\"1\" class=\"dataframe\">\n",
       "  <thead>\n",
       "    <tr style=\"text-align: right;\">\n",
       "      <th></th>\n",
       "      <th>StrMi</th>\n",
       "      <th>SqMi</th>\n",
       "      <th>IC_Avg</th>\n",
       "      <th>SD_Pct</th>\n",
       "      <th>SumMetric</th>\n",
       "    </tr>\n",
       "  </thead>\n",
       "  <tbody>\n",
       "    <tr>\n",
       "      <th>count</th>\n",
       "      <td>71.000000</td>\n",
       "      <td>71.000000</td>\n",
       "      <td>71.000000</td>\n",
       "      <td>71.000000</td>\n",
       "      <td>71.000000</td>\n",
       "    </tr>\n",
       "    <tr>\n",
       "      <th>mean</th>\n",
       "      <td>61.420414</td>\n",
       "      <td>28.222977</td>\n",
       "      <td>1.735337</td>\n",
       "      <td>8.578501</td>\n",
       "      <td>6.098592</td>\n",
       "    </tr>\n",
       "    <tr>\n",
       "      <th>std</th>\n",
       "      <td>374.630464</td>\n",
       "      <td>177.001610</td>\n",
       "      <td>2.000866</td>\n",
       "      <td>10.618400</td>\n",
       "      <td>1.385176</td>\n",
       "    </tr>\n",
       "    <tr>\n",
       "      <th>min</th>\n",
       "      <td>0.330000</td>\n",
       "      <td>0.260000</td>\n",
       "      <td>0.011311</td>\n",
       "      <td>0.000000</td>\n",
       "      <td>4.000000</td>\n",
       "    </tr>\n",
       "    <tr>\n",
       "      <th>25%</th>\n",
       "      <td>2.706071</td>\n",
       "      <td>1.383455</td>\n",
       "      <td>0.484738</td>\n",
       "      <td>0.640270</td>\n",
       "      <td>5.000000</td>\n",
       "    </tr>\n",
       "    <tr>\n",
       "      <th>50%</th>\n",
       "      <td>6.190000</td>\n",
       "      <td>3.014584</td>\n",
       "      <td>1.134622</td>\n",
       "      <td>3.739488</td>\n",
       "      <td>6.000000</td>\n",
       "    </tr>\n",
       "    <tr>\n",
       "      <th>75%</th>\n",
       "      <td>14.029849</td>\n",
       "      <td>5.466803</td>\n",
       "      <td>2.236207</td>\n",
       "      <td>12.736749</td>\n",
       "      <td>7.000000</td>\n",
       "    </tr>\n",
       "    <tr>\n",
       "      <th>max</th>\n",
       "      <td>3155.121287</td>\n",
       "      <td>1492.938867</td>\n",
       "      <td>10.827919</td>\n",
       "      <td>47.765397</td>\n",
       "      <td>10.000000</td>\n",
       "    </tr>\n",
       "  </tbody>\n",
       "</table>\n",
       "</div>"
      ],
      "text/plain": [
       "             StrMi         SqMi     IC_Avg     SD_Pct  SumMetric\n",
       "count    71.000000    71.000000  71.000000  71.000000  71.000000\n",
       "mean     61.420414    28.222977   1.735337   8.578501   6.098592\n",
       "std     374.630464   177.001610   2.000866  10.618400   1.385176\n",
       "min       0.330000     0.260000   0.011311   0.000000   4.000000\n",
       "25%       2.706071     1.383455   0.484738   0.640270   5.000000\n",
       "50%       6.190000     3.014584   1.134622   3.739488   6.000000\n",
       "75%      14.029849     5.466803   2.236207  12.736749   7.000000\n",
       "max    3155.121287  1492.938867  10.827919  47.765397  10.000000"
      ]
     },
     "execution_count": 39,
     "metadata": {},
     "output_type": "execute_result"
    }
   ],
   "source": [
    "lakesW[['StrMi','SqMi','IC_Avg','SD_Pct','HSI']].describe()"
   ]
  },
  {
   "cell_type": "code",
   "execution_count": 36,
   "metadata": {},
   "outputs": [
    {
     "data": {
      "text/html": [
       "<div>\n",
       "<style scoped>\n",
       "    .dataframe tbody tr th:only-of-type {\n",
       "        vertical-align: middle;\n",
       "    }\n",
       "\n",
       "    .dataframe tbody tr th {\n",
       "        vertical-align: top;\n",
       "    }\n",
       "\n",
       "    .dataframe thead th {\n",
       "        text-align: right;\n",
       "    }\n",
       "</style>\n",
       "<table border=\"1\" class=\"dataframe\">\n",
       "  <thead>\n",
       "    <tr style=\"text-align: right;\">\n",
       "      <th></th>\n",
       "      <th>GNIS_ID</th>\n",
       "      <th>GNIS_Name</th>\n",
       "      <th>SqMi</th>\n",
       "    </tr>\n",
       "  </thead>\n",
       "  <tbody>\n",
       "    <tr>\n",
       "      <th>50</th>\n",
       "      <td>212322</td>\n",
       "      <td>Lake Zoar</td>\n",
       "      <td>1492.938867</td>\n",
       "    </tr>\n",
       "    <tr>\n",
       "      <th>36</th>\n",
       "      <td>212624</td>\n",
       "      <td>Eagleville Pond</td>\n",
       "      <td>110.688188</td>\n",
       "    </tr>\n",
       "    <tr>\n",
       "      <th>54</th>\n",
       "      <td>209579</td>\n",
       "      <td>Pachaug Pond</td>\n",
       "      <td>52.426038</td>\n",
       "    </tr>\n",
       "    <tr>\n",
       "      <th>71</th>\n",
       "      <td>207318</td>\n",
       "      <td>Glasgo Pond</td>\n",
       "      <td>38.228036</td>\n",
       "    </tr>\n",
       "    <tr>\n",
       "      <th>19</th>\n",
       "      <td>205246</td>\n",
       "      <td>Bantam Lake</td>\n",
       "      <td>30.933808</td>\n",
       "    </tr>\n",
       "  </tbody>\n",
       "</table>\n",
       "</div>"
      ],
      "text/plain": [
       "    GNIS_ID        GNIS_Name         SqMi\n",
       "50   212322        Lake Zoar  1492.938867\n",
       "36   212624  Eagleville Pond   110.688188\n",
       "54   209579     Pachaug Pond    52.426038\n",
       "71   207318      Glasgo Pond    38.228036\n",
       "19   205246      Bantam Lake    30.933808"
      ]
     },
     "execution_count": 36,
     "metadata": {},
     "output_type": "execute_result"
    }
   ],
   "source": [
    "# Top 5 largest drainage basins\n",
    "lakesW[['GNIS_ID','GNIS_Name','SqMi']].sort_values(by=['SqMi'],ascending=False).head(5)"
   ]
  },
  {
   "cell_type": "code",
   "execution_count": 41,
   "metadata": {},
   "outputs": [
    {
     "data": {
      "text/html": [
       "<div>\n",
       "<style scoped>\n",
       "    .dataframe tbody tr th:only-of-type {\n",
       "        vertical-align: middle;\n",
       "    }\n",
       "\n",
       "    .dataframe tbody tr th {\n",
       "        vertical-align: top;\n",
       "    }\n",
       "\n",
       "    .dataframe thead th {\n",
       "        text-align: right;\n",
       "    }\n",
       "</style>\n",
       "<table border=\"1\" class=\"dataframe\">\n",
       "  <thead>\n",
       "    <tr style=\"text-align: right;\">\n",
       "      <th></th>\n",
       "      <th>GNIS_ID</th>\n",
       "      <th>GNIS_Name</th>\n",
       "      <th>SqMi</th>\n",
       "    </tr>\n",
       "  </thead>\n",
       "  <tbody>\n",
       "    <tr>\n",
       "      <th>55</th>\n",
       "      <td>206648</td>\n",
       "      <td>Deep Lake</td>\n",
       "      <td>0.260000</td>\n",
       "    </tr>\n",
       "    <tr>\n",
       "      <th>72</th>\n",
       "      <td>205357</td>\n",
       "      <td>Beardsley Pond</td>\n",
       "      <td>0.330000</td>\n",
       "    </tr>\n",
       "    <tr>\n",
       "      <th>16</th>\n",
       "      <td>205234</td>\n",
       "      <td>Ball Pond</td>\n",
       "      <td>0.380000</td>\n",
       "    </tr>\n",
       "    <tr>\n",
       "      <th>67</th>\n",
       "      <td>209620</td>\n",
       "      <td>Park Pond</td>\n",
       "      <td>0.435617</td>\n",
       "    </tr>\n",
       "    <tr>\n",
       "      <th>2</th>\n",
       "      <td>211388</td>\n",
       "      <td>Lake Terramuggus</td>\n",
       "      <td>0.630000</td>\n",
       "    </tr>\n",
       "  </tbody>\n",
       "</table>\n",
       "</div>"
      ],
      "text/plain": [
       "    GNIS_ID         GNIS_Name      SqMi\n",
       "55   206648         Deep Lake  0.260000\n",
       "72   205357    Beardsley Pond  0.330000\n",
       "16   205234         Ball Pond  0.380000\n",
       "67   209620         Park Pond  0.435617\n",
       "2    211388  Lake Terramuggus  0.630000"
      ]
     },
     "execution_count": 41,
     "metadata": {},
     "output_type": "execute_result"
    }
   ],
   "source": [
    "# Top 5 smallest drainage basins\n",
    "lakesW[['GNIS_ID','GNIS_Name','SqMi']].sort_values(by=['SqMi'],ascending=True).head(5)"
   ]
  },
  {
   "cell_type": "code",
   "execution_count": 42,
   "metadata": {},
   "outputs": [
    {
     "data": {
      "text/html": [
       "<div>\n",
       "<style scoped>\n",
       "    .dataframe tbody tr th:only-of-type {\n",
       "        vertical-align: middle;\n",
       "    }\n",
       "\n",
       "    .dataframe tbody tr th {\n",
       "        vertical-align: top;\n",
       "    }\n",
       "\n",
       "    .dataframe thead th {\n",
       "        text-align: right;\n",
       "    }\n",
       "</style>\n",
       "<table border=\"1\" class=\"dataframe\">\n",
       "  <thead>\n",
       "    <tr style=\"text-align: right;\">\n",
       "      <th></th>\n",
       "      <th>GNIS_ID</th>\n",
       "      <th>GNIS_Name</th>\n",
       "      <th>IC_Avg</th>\n",
       "    </tr>\n",
       "  </thead>\n",
       "  <tbody>\n",
       "    <tr>\n",
       "      <th>51</th>\n",
       "      <td>210861</td>\n",
       "      <td>Silver Lake</td>\n",
       "      <td>10.827919</td>\n",
       "    </tr>\n",
       "    <tr>\n",
       "      <th>2</th>\n",
       "      <td>211388</td>\n",
       "      <td>Lake Terramuggus</td>\n",
       "      <td>6.834160</td>\n",
       "    </tr>\n",
       "    <tr>\n",
       "      <th>70</th>\n",
       "      <td>207373</td>\n",
       "      <td>Gorton Pond</td>\n",
       "      <td>6.757855</td>\n",
       "    </tr>\n",
       "    <tr>\n",
       "      <th>16</th>\n",
       "      <td>205234</td>\n",
       "      <td>Ball Pond</td>\n",
       "      <td>6.628182</td>\n",
       "    </tr>\n",
       "    <tr>\n",
       "      <th>39</th>\n",
       "      <td>209870</td>\n",
       "      <td>Pocotopaug Lake</td>\n",
       "      <td>6.206345</td>\n",
       "    </tr>\n",
       "  </tbody>\n",
       "</table>\n",
       "</div>"
      ],
      "text/plain": [
       "    GNIS_ID         GNIS_Name     IC_Avg\n",
       "51   210861       Silver Lake  10.827919\n",
       "2    211388  Lake Terramuggus   6.834160\n",
       "70   207373       Gorton Pond   6.757855\n",
       "16   205234         Ball Pond   6.628182\n",
       "39   209870   Pocotopaug Lake   6.206345"
      ]
     },
     "execution_count": 42,
     "metadata": {},
     "output_type": "execute_result"
    }
   ],
   "source": [
    "# Lakes with the highest IC in the drainage basins\n",
    "lakesW[['GNIS_ID','GNIS_Name','IC_Avg']].sort_values(by=['IC_Avg'],ascending=False).head(5)"
   ]
  },
  {
   "cell_type": "code",
   "execution_count": 43,
   "metadata": {},
   "outputs": [
    {
     "data": {
      "text/html": [
       "<div>\n",
       "<style scoped>\n",
       "    .dataframe tbody tr th:only-of-type {\n",
       "        vertical-align: middle;\n",
       "    }\n",
       "\n",
       "    .dataframe tbody tr th {\n",
       "        vertical-align: top;\n",
       "    }\n",
       "\n",
       "    .dataframe thead th {\n",
       "        text-align: right;\n",
       "    }\n",
       "</style>\n",
       "<table border=\"1\" class=\"dataframe\">\n",
       "  <thead>\n",
       "    <tr style=\"text-align: right;\">\n",
       "      <th></th>\n",
       "      <th>GNIS_ID</th>\n",
       "      <th>GNIS_Name</th>\n",
       "      <th>IC_Avg</th>\n",
       "    </tr>\n",
       "  </thead>\n",
       "  <tbody>\n",
       "    <tr>\n",
       "      <th>37</th>\n",
       "      <td>210190</td>\n",
       "      <td>Riga Lake</td>\n",
       "      <td>0.011311</td>\n",
       "    </tr>\n",
       "    <tr>\n",
       "      <th>21</th>\n",
       "      <td>209459</td>\n",
       "      <td>Lake Of Isles</td>\n",
       "      <td>0.030348</td>\n",
       "    </tr>\n",
       "    <tr>\n",
       "      <th>38</th>\n",
       "      <td>211651</td>\n",
       "      <td>Uncas Pond</td>\n",
       "      <td>0.044121</td>\n",
       "    </tr>\n",
       "    <tr>\n",
       "      <th>30</th>\n",
       "      <td>209411</td>\n",
       "      <td>Norwich Pond</td>\n",
       "      <td>0.054775</td>\n",
       "    </tr>\n",
       "    <tr>\n",
       "      <th>81</th>\n",
       "      <td>209973</td>\n",
       "      <td>Powers Lake</td>\n",
       "      <td>0.089032</td>\n",
       "    </tr>\n",
       "  </tbody>\n",
       "</table>\n",
       "</div>"
      ],
      "text/plain": [
       "    GNIS_ID      GNIS_Name    IC_Avg\n",
       "37   210190      Riga Lake  0.011311\n",
       "21   209459  Lake Of Isles  0.030348\n",
       "38   211651     Uncas Pond  0.044121\n",
       "30   209411   Norwich Pond  0.054775\n",
       "81   209973    Powers Lake  0.089032"
      ]
     },
     "execution_count": 43,
     "metadata": {},
     "output_type": "execute_result"
    }
   ],
   "source": [
    "# Lakes with the lowest IC in the drainage basins\n",
    "lakesW[['GNIS_ID','GNIS_Name','IC_Avg']].sort_values(by=['IC_Avg'],ascending=True).head(5)"
   ]
  },
  {
   "cell_type": "code",
   "execution_count": 51,
   "metadata": {},
   "outputs": [
    {
     "data": {
      "text/plain": [
       "<matplotlib.axes._subplots.AxesSubplot at 0x157f4577bc8>"
      ]
     },
     "execution_count": 51,
     "metadata": {},
     "output_type": "execute_result"
    },
    {
     "data": {
      "image/png": "[encoded data removed]",
      "text/plain": [
       "<Figure size 1152x432 with 1 Axes>"
      ]
     },
     "metadata": {
      "needs_background": "light"
     },
     "output_type": "display_data"
    }
   ],
   "source": [
    "lakesW['IC_Avg'].hist(bins=10, figsize = (16,6));"
   ]
  },
  {
   "cell_type": "code",
   "execution_count": null,
   "metadata": {},
   "outputs": [],
   "source": []
  }
 ],
 "metadata": {
  "kernelspec": {
   "display_name": "Python 3",
   "language": "python",
   "name": "python3"
  },
  "language_info": {
   "codemirror_mode": {
    "name": "ipython",
    "version": 3
   },
   "file_extension": ".py",
   "mimetype": "text/x-python",
   "name": "python",
   "nbconvert_exporter": "python",
   "pygments_lexer": "ipython3",
   "version": "3.7.6"
  }
 },
 "nbformat": 4,
 "nbformat_minor": 4
}
